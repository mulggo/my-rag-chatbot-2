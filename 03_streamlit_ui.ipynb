{
 "cells": [
  {
   "cell_type": "markdown",
   "metadata": {},
   "source": [
    "# Streamlit UI 구조 완전 분석 노트북\n",
    "\n",
    "app.py의 완전한 Streamlit UI 구조를 노트북에서 분석하고 테스트합니다."
   ]
  },
  {
   "cell_type": "markdown",
   "metadata": {},
   "source": [
    "## 1. 환경 설정 (app.py와 동일)"
   ]
  },
  {
   "cell_type": "code",
   "execution_count": null,
   "metadata": {},
   "outputs": [],
   "source": [
    "import streamlit as st\n",
    "import boto3\n",
    "import os\n",
    "import time\n",
    "from datetime import datetime\n",
    "import json\n",
    "from dotenv import load_dotenv\n",
    "import uuid\n",
    "\n",
    "# 환경 변수 로드\n",
    "load_dotenv()\n",
    "\n",
    "# 전역 변수 (app.py와 동일)\n",
    "KB_ID = os.getenv('BEDROCK_KNOWLEDGE_BASE_ID')\n",
    "MODEL_ID = os.getenv('BEDROCK_MODEL_ID')\n",
    "RERANK_MODEL_ID = os.getenv('BEDROCK_RERANK_MODEL_ID')\n",
    "REGION = os.getenv('AWS_REGION')\n",
    "S3_BUCKET = os.getenv('S3_BUCKET_NAME')\n",
    "\n",
    "# 청크 설정\n",
    "SOURCE_CHUNKS = 50\n",
    "RERANK_CHUNKS = 5\n",
    "\n",
    "print(\"✅ 환경 설정 완료\")\n",
    "print(f\"KB_ID: {KB_ID}\")\n",
    "print(f\"MODEL_ID: {MODEL_ID}\")\n",
    "print(f\"청크 설정: {SOURCE_CHUNKS} → {RERANK_CHUNKS}\")"
   ]
  },
  {
   "cell_type": "markdown",
   "metadata": {},
   "source": [
    "## 2. Streamlit 페이지 설정 구조"
   ]
  },
  {
   "cell_type": "code",
   "execution_count": null,
   "metadata": {},
   "outputs": [],
   "source": [
    "# app.py의 페이지 설정 구조 분석\n",
    "page_config_structure = {\n",
    "    \"function\": \"st.set_page_config()\",\n",
    "    \"parameters\": {\n",
    "        \"page_title\": \"멀티모달 RAG 챗봇\",\n",
    "        \"page_icon\": \"🤖\",\n",
    "        \"layout\": \"wide\",\n",
    "        \"initial_sidebar_state\": \"expanded\"\n",
    "    },\n",
    "    \"purpose\": \"브라우저 탭 제목, 아이콘, 레이아웃 설정\"\n",
    "}\n",
    "\n",
    "print(\"📱 Streamlit 페이지 설정 구조:\")\n",
    "print(f\"함수: {page_config_structure['function']}\")\n",
    "print(\"파라미터:\")\n",
    "for key, value in page_config_structure['parameters'].items():\n",
    "    print(f\"  {key}: {value}\")\n",
    "print(f\"목적: {page_config_structure['purpose']}\")\n",
    "print(\"\\n✅ 페이지 설정 구조 분석 완료\")"
   ]
  },
  {
   "cell_type": "markdown",
   "metadata": {},
   "source": [
    "## 3. 사이드바 구조 (setup_sidebar 함수)"
   ]
  },
  {
   "cell_type": "code",
   "execution_count": null,
   "metadata": {},
   "outputs": [],
   "source": [
    "# app.py의 사이드바 구조 완전 분석\n",
    "sidebar_structure = {\n",
    "    \"container\": \"st.sidebar\",\n",
    "    \"title\": \"🤖 RAG 챗봇 설정\",\n",
    "    \"sections\": [\n",
    "        {\n",
    "            \"name\": \"📊 시스템 상태\",\n",
    "            \"components\": [\n",
    "                \"st.success() - Knowledge Base ID 상태\",\n",
    "                \"st.success() - Model ID 상태\", \n",
    "                \"st.success() - Rerank Model ID 상태\",\n",
    "                \"st.success() - AWS Region 상태\",\n",
    "                \"st.success() - AWS Account ID 상태\"\n",
    "            ]\n",
    "        },\n",
    "        {\n",
    "            \"name\": \"🔍 검색 설정\",\n",
    "            \"components\": [\n",
    "                \"st.metric() - 초기 검색 청크\",\n",
    "                \"st.metric() - 최종 선별 청크\"\n",
    "            ]\n",
    "        },\n",
    "        {\n",
    "            \"name\": \"⚙️ 응답 생성 설정\",\n",
    "            \"components\": [\n",
    "                \"st.slider() - Temperature\",\n",
    "                \"st.slider() - Max Tokens\"\n",
    "            ]\n",
    "        },\n",
    "        {\n",
    "            \"name\": \"💬 세션 관리\",\n",
    "            \"components\": [\n",
    "                \"st.button() - 채팅 초기화\",\n",
    "                \"st.button() - 새 세션\"\n",
    "            ]\n",
    "        }\n",
    "    ]\n",
    "}\n",
    "\n",
    "print(\"🎛️ 사이드바 구조:\")\n",
    "for section in sidebar_structure['sections']:\n",
    "    print(f\"\\n{section['name']}:\")\n",
    "    for comp in section['components']:\n",
    "        print(f\"  - {comp}\")\n",
    "\n",
    "print(\"\\n✅ 사이드바 구조 분석 완료\")"
   ]
  },
  {
   "cell_type": "markdown",
   "metadata": {},
   "source": [
    "## 4. 메인 채팅 인터페이스 구조"
   ]
  },
  {
   "cell_type": "code",
   "execution_count": null,
   "metadata": {},
   "outputs": [],
   "source": [
    "# 메인 채팅 인터페이스 구조\n",
    "chat_structure = {\n",
    "    \"header\": [\n",
    "        \"st.title('🤖 멀티모달 RAG 챗봇')\",\n",
    "        \"st.markdown('**건설공사 표준품셈 문서 기반 RAG 챗봇**')\",\n",
    "        \"st.markdown('**Rerank 기반 고품질 답변 제공**')\"\n",
    "    ],\n",
    "    \"metrics\": [\n",
    "        \"st.columns(4) - 4열 레이아웃\",\n",
    "        \"st.metric() - 초기 검색 청크\",\n",
    "        \"st.metric() - 최종 선별 청크\", \n",
    "        \"st.metric() - 검색 타입\",\n",
    "        \"st.metric() - Temperature\"\n",
    "    ],\n",
    "    \"chat_flow\": [\n",
    "        \"1. display_chat_messages() - 기존 메시지 표시\",\n",
    "        \"2. st.chat_input() - 사용자 입력\",\n",
    "        \"3. st.chat_message('user') - 사용자 메시지 표시\",\n",
    "        \"4. st.chat_message('assistant') - AI 응답 컨테이너\",\n",
    "        \"5. st.spinner() - 로딩 표시\",\n",
    "        \"6. retrieve_and_generate() - RAG 실행\",\n",
    "        \"7. st.expander() - 참고 문서 표시\",\n",
    "        \"8. session_state 업데이트\"\n",
    "    ]\n",
    "}\n",
    "\n",
    "print(\"💬 메인 채팅 인터페이스 구조:\")\n",
    "print(\"\\n헤더:\")\n",
    "for item in chat_structure['header']:\n",
    "    print(f\"  - {item}\")\n",
    "\n",
    "print(\"\\n메트릭 표시:\")\n",
    "for item in chat_structure['metrics']:\n",
    "    print(f\"  - {item}\")\n",
    "\n",
    "print(\"\\n채팅 플로우:\")\n",
    "for item in chat_structure['chat_flow']:\n",
    "    print(f\"  {item}\")\n",
    "\n",
    "print(\"\\n✅ 채팅 인터페이스 구조 분석 완료\")"
   ]
  }
 ],
 "metadata": {
  "kernelspec": {
   "display_name": "venv",
   "language": "python",
   "name": "python3"
  },
  "language_info": {
   "codemirror_mode": {
    "name": "ipython",
    "version": 3
   },
   "file_extension": ".py",
   "mimetype": "text/x-python",
   "name": "python",
   "nbconvert_exporter": "python",
   "pygments_lexer": "ipython3",
   "version": "3.12.11"
  }
 },
 "nbformat": 4,
 "nbformat_minor": 4
}
