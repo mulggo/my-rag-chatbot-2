{
 "cells": [
  {
   "cell_type": "markdown",
   "metadata": {},
   "source": [
    "# 멀티모달 RAG 챗봇 프로젝트 설정\n",
    "\n",
    "AWS Bedrock과 Knowledge Base를 활용한 멀티모달 RAG 챗봇 프로젝트의 개발 환경을 설정합니다.\n",
    "\n",
    "**주의**: 모든 설정을 주피터 노트북 내에서 실행합니다."
   ]
  },
  {
   "cell_type": "markdown",
   "metadata": {},
   "source": [
    "## 1. 가상환경 설정\n",
    "\n",
    "주피터 노트북에서 직접 가상환경 관련 명령어를 실행합니다."
   ]
  },
  {
   "cell_type": "code",
   "execution_count": null,
   "metadata": {},
   "outputs": [],
   "source": [
    "# 가상환경 생성\n",
    "!python -m venv my-rag-venv"
   ]
  },
  {
   "cell_type": "code",
   "execution_count": null,
   "metadata": {},
   "outputs": [],
   "source": [
    "# pip 업그레이드 (가상환경 내에서)\n",
    "!my-rag-venv/bin/pip install --upgrade pip"
   ]
  },
  {
   "cell_type": "code",
   "execution_count": null,
   "metadata": {},
   "outputs": [],
   "source": [
    "# 주피터와 ipykernel 설치\n",
    "!my-rag-venv/bin/pip install jupyter ipykernel"
   ]
  },
  {
   "cell_type": "code",
   "execution_count": null,
   "metadata": {},
   "outputs": [],
   "source": [
    "# 커널 등록\n",
    "!my-rag-venv/bin/python -m ipykernel install --user --name=my-rag-venv --display-name=\"My RAG Chatbot\""
   ]
  },
  {
   "cell_type": "markdown",
   "metadata": {},
   "source": [
    "## 2. 패키지 설치\n",
    "\n",
    "requirements.txt의 모든 패키지를 가상환경에 설치합니다."
   ]
  },
  {
   "cell_type": "code",
   "execution_count": null,
   "metadata": {},
   "outputs": [],
   "source": [
    "# requirements.txt 설치\n",
    "!my-rag-venv/bin/pip install -r requirements.txt"
   ]
  },
  {
   "cell_type": "markdown",
   "metadata": {},
   "source": [
    "## 3. 환경 변수 설정\n",
    "\n",
    ".env 파일을 생성하고 필요한 환경 변수를 설정합니다."
   ]
  },
  {
   "cell_type": "code",
   "execution_count": null,
   "metadata": {},
   "outputs": [],
   "source": [
    "# .env.example 파일 생성\n",
    "env_template = \"\"\"\n",
    "# AWS 설정\n",
    "AWS_REGION=us-east-1\n",
    "AWS_PROFILE=default\n",
    "\n",
    "# Bedrock 설정\n",
    "BEDROCK_KNOWLEDGE_BASE_ID=your-knowledge-base-id\n",
    "BEDROCK_MODEL_ID=anthropic.claude-3-7-sonnet-20240620-v1:0\n",
    "BEDROCK_EMBEDDING_MODEL_ID=amazon.titan-embed-text-v2:0\n",
    "BEDROCK_RERANK_MODEL_ID=cohere.rerank-v3-5:0\n",
    "\n",
    "# S3 설정\n",
    "S3_BUCKET_NAME=your-s3-bucket-name\n",
    "S3_PREFIX=documents/\n",
    "\n",
    "# 애플리케이션 설정\n",
    "MAX_FILE_SIZE_MB=10\n",
    "SUPPORTED_FILE_TYPES=pdf,txt,md,jpg,jpeg,png\n",
    "\"\"\"\n",
    "\n",
    "with open('.env.example', 'w') as f:\n",
    "    f.write(env_template.strip())\n",
    "\n",
    "print(\".env.example 파일이 생성되었습니다.\")"
   ]
  },
  {
   "cell_type": "code",
   "execution_count": null,
   "metadata": {},
   "outputs": [],
   "source": [
    "# .env.example을 .env로 복사\n",
    "!cp .env.example .env\n",
    "print(\".env 파일이 생성되었습니다. 실제 값으로 수정하세요.\")"
   ]
  },
  {
   "cell_type": "markdown",
   "metadata": {},
   "source": [
    "## 4. AWS 연결 확인\n",
    "\n",
    "AWS 자격 증명과 Bedrock 서비스 접근을 확인합니다."
   ]
  },
  {
   "cell_type": "code",
   "execution_count": null,
   "metadata": {},
   "outputs": [],
   "source": [
    "import boto3\n",
    "from botocore.exceptions import NoCredentialsError, ClientError\n",
    "\n",
    "def check_aws_credentials():\n",
    "    \"\"\"AWS 자격 증명 확인\"\"\"\n",
    "    try:\n",
    "        sts = boto3.client('sts')\n",
    "        identity = sts.get_caller_identity()\n",
    "        \n",
    "        print(\"✅ AWS 자격 증명 확인 성공!\")\n",
    "        print(f\"Account ID: {identity.get('Account')}\")\n",
    "        print(f\"User ARN: {identity.get('Arn')}\")\n",
    "        return True\n",
    "        \n",
    "    except NoCredentialsError:\n",
    "        print(\"❌ AWS 자격 증명이 설정되지 않았습니다.\")\n",
    "        return False\n",
    "    except Exception as e:\n",
    "        print(f\"❌ 오류: {e}\")\n",
    "        return False\n",
    "\n",
    "check_aws_credentials()"
   ]
  },
  {
   "cell_type": "code",
   "execution_count": null,
   "metadata": {},
   "outputs": [],
   "source": [
    "def check_bedrock_access():\n",
    "    \"\"\"Bedrock 서비스 접근 확인\"\"\"\n",
    "    try:\n",
    "        bedrock = boto3.client('bedrock', region_name='us-east-1')\n",
    "        response = bedrock.list_foundation_models()\n",
    "        \n",
    "        print(\"✅ Bedrock 서비스 접근 성공!\")\n",
    "        print(f\"사용 가능한 Foundation Models: {len(response['modelSummaries'])}개\")\n",
    "        \n",
    "        # Claude 모델 확인\n",
    "        claude_models = [model for model in response['modelSummaries'] \n",
    "                        if 'claude' in model['modelId'].lower()]\n",
    "        \n",
    "        if claude_models:\n",
    "            print(\"\\n사용 가능한 Claude 모델들:\")\n",
    "            for model in claude_models[:3]:\n",
    "                print(f\"  - {model['modelId']}\")\n",
    "        \n",
    "        return True\n",
    "        \n",
    "    except ClientError as e:\n",
    "        print(f\"❌ Bedrock 접근 오류: {e}\")\n",
    "        return False\n",
    "    except Exception as e:\n",
    "        print(f\"❌ 예상치 못한 오류: {e}\")\n",
    "        return False\n",
    "\n",
    "check_bedrock_access()"
   ]
  },
  {
   "cell_type": "markdown",
   "metadata": {},
   "source": [
    "## 5. 프로젝트 구조 생성\n",
    "\n",
    "필요한 디렉토리와 파일들을 생성합니다."
   ]
  },
  {
   "cell_type": "code",
   "execution_count": null,
   "metadata": {},
   "outputs": [],
   "source": [
    "import os\n",
    "\n",
    "def create_project_structure():\n",
    "    \"\"\"프로젝트 디렉토리 구조 생성\"\"\"\n",
    "    directories = [\n",
    "        'src',\n",
    "        'config', \n",
    "        'data/uploads',\n",
    "        'data/samples',\n",
    "        'tests'\n",
    "    ]\n",
    "    \n",
    "    files = [\n",
    "        'src/__init__.py',\n",
    "        'src/bedrock_client.py',\n",
    "        'src/knowledge_base.py', \n",
    "        'src/document_processor.py',\n",
    "        'src/chat_handler.py',\n",
    "        'src/utils.py',\n",
    "        'config/__init__.py',\n",
    "        'config/settings.py',\n",
    "        'tests/__init__.py'\n",
    "    ]\n",
    "    \n",
    "    print(\"📁 프로젝트 구조 생성:\")\n",
    "    \n",
    "    # 디렉토리 생성\n",
    "    for directory in directories:\n",
    "        os.makedirs(directory, exist_ok=True)\n",
    "        print(f\"✅ 디렉토리: {directory}/\")\n",
    "    \n",
    "    # 파일 생성\n",
    "    for file_path in files:\n",
    "        if not os.path.exists(file_path):\n",
    "            with open(file_path, 'w') as f:\n",
    "                f.write('# TODO: 구현 예정\\n')\n",
    "            print(f\"✅ 파일: {file_path}\")\n",
    "        else:\n",
    "            print(f\"⚠️  파일 존재: {file_path}\")\n",
    "    \n",
    "    # .gitkeep 파일 생성\n",
    "    gitkeep_files = ['data/uploads/.gitkeep', 'data/samples/.gitkeep']\n",
    "    for gitkeep in gitkeep_files:\n",
    "        with open(gitkeep, 'w') as f:\n",
    "            f.write('')\n",
    "        print(f\"✅ 파일: {gitkeep}\")\n",
    "\n",
    "create_project_structure()"
   ]
  },
  {
   "cell_type": "markdown",
   "metadata": {},
   "source": [
    "## 6. .gitignore 파일 생성"
   ]
  },
  {
   "cell_type": "code",
   "execution_count": null,
   "metadata": {},
   "outputs": [],
   "source": [
    "gitignore_content = '''# Python\n",
    "__pycache__/\n",
    "*.py[cod]\n",
    "*.so\n",
    ".Python\n",
    "env/\n",
    "venv/\n",
    "my-rag-venv/\n",
    "\n",
    "# Environment variables\n",
    ".env\n",
    "\n",
    "# Jupyter Notebook\n",
    ".ipynb_checkpoints\n",
    "\n",
    "# Data\n",
    "data/uploads/*\n",
    "!data/uploads/.gitkeep\n",
    "\n",
    "# Logs\n",
    "*.log\n",
    "\n",
    "# IDE\n",
    ".vscode/\n",
    ".idea/\n",
    "'''\n",
    "\n",
    "with open('.gitignore', 'w') as f:\n",
    "    f.write(gitignore_content)\n",
    "\n",
    "print(\"✅ .gitignore 파일이 생성되었습니다.\")"
   ]
  },
  {
   "cell_type": "markdown",
   "metadata": {},
   "source": [
    "## 7. 설치된 패키지 확인"
   ]
  },
  {
   "cell_type": "code",
   "execution_count": null,
   "metadata": {},
   "outputs": [],
   "source": [
    "# 가상환경의 패키지 목록 확인\n",
    "!my-rag-venv/bin/pip list"
   ]
  },
  {
   "cell_type": "markdown",
   "metadata": {},
   "source": [
    "## 8. 설정 완료 확인"
   ]
  },
  {
   "cell_type": "code",
   "execution_count": null,
   "metadata": {},
   "outputs": [],
   "source": [
    "def setup_completion_check():\n",
    "    \"\"\"설정 완료 상태 확인\"\"\"\n",
    "    print(\"🎉 프로젝트 설정 완료 확인\")\n",
    "    print(\"=\" * 40)\n",
    "    \n",
    "    checks = [\n",
    "        \"✅ 가상환경 생성 완료\",\n",
    "        \"✅ 패키지 설치 완료\", \n",
    "        \"✅ 환경 변수 파일 생성\",\n",
    "        \"✅ AWS 연결 확인\",\n",
    "        \"✅ 프로젝트 구조 생성\",\n",
    "        \"✅ .gitignore 파일 생성\"\n",
    "    ]\n",
    "    \n",
    "    for check in checks:\n",
    "        print(check)\n",
    "    \n",
    "    print(\"\\n✨ 다음 단계:\")\n",
    "    print(\"1. 커널을 'My RAG Chatbot'으로 변경\")\n",
    "    print(\"2. .env 파일에서 실제 값으로 수정\")\n",
    "    print(\"3. AWS Bedrock Knowledge Base 생성\")\n",
    "    print(\"4. 기본 코드 구현 시작\")\n",
    "\n",
    "setup_completion_check()"
   ]
  },
  {
   "cell_type": "markdown",
   "metadata": {},
   "source": [
    "## 📝 중요 안내\n",
    "\n",
    "### 커널 변경 필수!\n",
    "설정 완료 후 반드시 다음을 수행하세요:\n",
    "1. 노트북 상단 \"Kernel\" → \"Change kernel\" \n",
    "2. \"My RAG Chatbot\" 선택\n",
    "3. 새 커널에서 작업 계속\n",
    "\n",
    "### 환경 변수 수정\n",
    "`.env` 파일을 열어서 다음 값들을 실제 값으로 변경하세요:\n",
    "- `BEDROCK_KNOWLEDGE_BASE_ID`\n",
    "- `S3_BUCKET_NAME`\n",
    "- 기타 필요한 설정값들"
   ]
  }
 ],
 "metadata": {
  "kernelspec": {
   "display_name": "Python 3",
   "language": "python",
   "name": "python3"
  },
  "language_info": {
   "codemirror_mode": {
    "name": "ipython",
    "version": 3
   },
   "file_extension": ".py",
   "mimetype": "text/x-python",
   "name": "python",
   "nbconvert_exporter": "python",
   "pygments_lexer": "ipython3",
   "version": "3.9.0"
  }
 },
 "nbformat": 4,
 "nbformat_minor": 4
}
  },
  {
   "cell_type": "markdown",
   "metadata": {},
   "source": [
    "## 2. 주피터와 커널 설치\n",
    "\n",
    "**터미널에서 실행해주세요:**"
   ]
  },
  {
   "cell_type": "code",
   "execution_count": null,
   "metadata": {},
   "outputs": [],
   "source": [
    "# 터미널에서 실행할 명령어들 (참고용)\n",
    "jupyter_commands = [\n",
    "    \"# 주피터와 ipykernel 설치\",\n",
    "    \"pip install jupyter ipykernel\",\n",
    "    \"\",\n",
    "    \"# 커널 등록\",\n",
    "    \"python -m ipykernel install --user --name=my-rag-venv --display-name='My RAG Chatbot'\",\n",
    "    \"\",\n",
    "    \"# 주피터 노트북 실행\",\n",
    "    \"jupyter notebook\"\n",
    "]\n",
    "\n",
    "for cmd in jupyter_commands:\n",
    "    print(cmd)"
   ]
  },
  {
   "cell_type": "markdown",
   "metadata": {},
   "source": [
    "## 3. Requirements 설치\n",
    "\n",
    "**가상환경이 활성화된 터미널에서 실행:**"
   ]
  },
  {
   "cell_type": "code",
   "execution_count": null,
   "metadata": {},
   "outputs": [],
   "source": [
    "# 터미널에서 실행: pip install -r requirements.txt\n",
    "print(\"터미널에서 실행하세요: pip install -r requirements.txt\")\n",
    "print(\"\\n설치될 주요 패키지들:\")\n",
    "\n",
    "packages = [\n",
    "    \"streamlit>=1.28.0 - 웹 UI 프레임워크\",\n",
    "    \"boto3>=1.34.0 - AWS SDK\",\n",
    "    \"python-dotenv>=1.0.0 - 환경 변수 관리\",\n",
    "    \"pdfplumber==0.10.3 - PDF 텍스트 추출\",\n",
    "    \"pypdf==4.0.1 - PDF 처리\",\n",
    "    \"unstructured - 멀티모달 문서 처리\",\n",
    "    \"Pillow>=10.0.0 - 이미지 처리\",\n",
    "    \"opencv-python==4.9.0.80 - 이미지 전처리\",\n",
    "    \"pytesseract>=0.3.10 - OCR\",\n",
    "    \"opensearch-py==2.4.2 - OpenSearch 클라이언트\"\n",
    "]\n",
    "\n",
    "for pkg in packages:\n",
    "    print(f\"  - {pkg}\")"
   ]
  },
  {
   "cell_type": "markdown",
   "metadata": {},
   "source": [
    "## 4. 환경 변수 설정\n",
    "\n",
    "`.env` 파일을 생성하고 필요한 환경 변수를 설정합니다."
   ]
  },
  {
   "cell_type": "code",
   "execution_count": null,
   "metadata": {},
   "outputs": [],
   "source": [
    "# .env 파일 템플릿 생성\n",
    "env_template = \"\"\"\n",
    "# AWS 설정\n",
    "AWS_REGION=us-east-1\n",
    "AWS_PROFILE=default\n",
    "\n",
    "# Bedrock 설정\n",
    "BEDROCK_KNOWLEDGE_BASE_ID=your-knowledge-base-id\n",
    "BEDROCK_MODEL_ID=anthropic.claude-3-7-sonnet-20240620-v1:0\n",
    "BEDROCK_EMBEDDING_MODEL_ID=amazon.titan-embed-text-v2:0\n",
    "BEDROCK_RERANK_MODEL_ID=cohere.rerank-v3-5:0\n",
    "\n",
    "# S3 설정\n",
    "S3_BUCKET_NAME=your-s3-bucket-name\n",
    "S3_PREFIX=documents/\n",
    "\n",
    "# 애플리케이션 설정\n",
    "MAX_FILE_SIZE_MB=10\n",
    "SUPPORTED_FILE_TYPES=pdf,txt,md,jpg,jpeg,png\n",
    "\"\"\"\n",
    "\n",
    "# .env 파일 생성\n",
    "with open('.env.example', 'w') as f:\n",
    "    f.write(env_template.strip())\n",
    "\n",
    "print(\".env.example 파일이 생성되었습니다.\")\n",
    "print(\"\\n다음 단계:\")\n",
    "print(\"1. .env.example을 .env로 복사\")\n",
    "print(\"2. .env 파일에서 실제 값들로 수정\")\n",
    "print(\"\\n터미널에서 실행:\")\n",
    "print(\"cp .env.example .env\")"
   ]
  },
  {
   "cell_type": "markdown",
   "metadata": {},
   "source": [
    "## 5. AWS 자격 증명 확인"
   ]
  },
  {
   "cell_type": "code",
   "execution_count": null,
   "metadata": {},
   "outputs": [],
   "source": [
    "import boto3\n",
    "from botocore.exceptions import NoCredentialsError, ClientError\n",
    "\n",
    "def check_aws_credentials():\n",
    "    \"\"\"AWS 자격 증명 확인\"\"\"\n",
    "    try:\n",
    "        # STS 클라이언트로 자격 증명 확인\n",
    "        sts = boto3.client('sts')\n",
    "        identity = sts.get_caller_identity()\n",
    "        \n",
    "        print(\"✅ AWS 자격 증명 확인 성공!\")\n",
    "        print(f\"Account ID: {identity.get('Account')}\")\n",
    "        print(f\"User ARN: {identity.get('Arn')}\")\n",
    "        print(f\"User ID: {identity.get('UserId')}\")\n",
    "        \n",
    "        return True\n",
    "        \n",
    "    except NoCredentialsError:\n",
    "        print(\"❌ AWS 자격 증명이 설정되지 않았습니다.\")\n",
    "        print(\"다음 명령어로 설정하세요: aws configure\")\n",
    "        return False\n",
    "        \n",
    "    except ClientError as e:\n",
    "        print(f\"❌ AWS 자격 증명 오류: {e}\")\n",
    "        return False\n",
    "    except Exception as e:\n",
    "        print(f\"❌ 예상치 못한 오류: {e}\")\n",
    "        return False\n",
    "\n",
    "# AWS 자격 증명 확인 실행\n",
    "check_aws_credentials()"
   ]
  },
  {
   "cell_type": "markdown",
   "metadata": {},
   "source": [
    "## 6. Bedrock 서비스 접근 확인"
   ]
  },
  {
   "cell_type": "code",
   "execution_count": null,
   "metadata": {},
   "outputs": [],
   "source": [
    "def check_bedrock_access():\n",
    "    \"\"\"Bedrock 서비스 접근 확인\"\"\"\n",
    "    try:\n",
    "        # Bedrock 클라이언트 생성\n",
    "        bedrock = boto3.client('bedrock', region_name='us-east-1')\n",
    "        \n",
    "        # Foundation Models 목록 조회\n",
    "        response = bedrock.list_foundation_models()\n",
    "        \n",
    "        print(\"✅ Bedrock 서비스 접근 성공!\")\n",
    "        print(f\"사용 가능한 Foundation Models: {len(response['modelSummaries'])}개\")\n",
    "        \n",
    "        # Claude 모델 확인\n",
    "        claude_models = [model for model in response['modelSummaries'] \n",
    "                        if 'claude' in model['modelId'].lower()]\n",
    "        \n",
    "        if claude_models:\n",
    "            print(\"\\n사용 가능한 Claude 모델들:\")\n",
    "            for model in claude_models[:3]:  # 처음 3개만 표시\n",
    "                print(f\"  - {model['modelId']}\")\n",
    "        \n",
    "        return True\n",
    "        \n",
    "    except ClientError as e:\n",
    "        error_code = e.response['Error']['Code']\n",
    "        if error_code == 'AccessDeniedException':\n",
    "            print(\"❌ Bedrock 서비스 접근 권한이 없습니다.\")\n",
    "            print(\"IAM 정책에서 Bedrock 권한을 확인하세요.\")\n",
    "        else:\n",
    "            print(f\"❌ Bedrock 접근 오류: {e}\")\n",
    "        return False\n",
    "        \n",
    "    except Exception as e:\n",
    "        print(f\"❌ 예상치 못한 오류: {e}\")\n",
    "        return False\n",
    "\n",
    "# Bedrock 접근 확인 실행\n",
    "check_bedrock_access()"
   ]
  },
  {
   "cell_type": "markdown",
   "metadata": {},
   "source": [
    "## 7. 설치된 패키지 확인"
   ]
  },
  {
   "cell_type": "code",
   "execution_count": null,
   "metadata": {},
   "outputs": [],
   "source": [
    "import pkg_resources\n",
    "import sys\n",
    "\n",
    "def check_installed_packages():\n",
    "    \"\"\"주요 패키지 설치 확인\"\"\"\n",
    "    required_packages = [\n",
    "        'streamlit',\n",
    "        'boto3',\n",
    "        'python-dotenv',\n",
    "        'pdfplumber',\n",
    "        'pypdf',\n",
    "        'Pillow',\n",
    "        'opencv-python',\n",
    "        'pytesseract',\n",
    "        'opensearch-py'\n",
    "    ]\n",
    "    \n",
    "    print(\"📦 주요 패키지 설치 확인:\")\n",
    "    print(\"=\" * 50)\n",
    "    \n",
    "    for package in required_packages:\n",
    "        try:\n",
    "            version = pkg_resources.get_distribution(package).version\n",
    "            print(f\"✅ {package:<20} {version}\")\n",
    "        except pkg_resources.DistributionNotFound:\n",
    "            print(f\"❌ {package:<20} 설치되지 않음\")\n",
    "    \n",
    "    print(\"\\n🐍 Python 정보:\")\n",
    "    print(f\"Python 버전: {sys.version}\")\n",
    "    print(f\"Python 경로: {sys.executable}\")\n",
    "\n",
    "# 패키지 확인 실행\n",
    "check_installed_packages()"
   ]
  },
  {
   "cell_type": "markdown",
   "metadata": {},
   "source": [
    "## 8. 프로젝트 구조 생성"
   ]
  },
  {
   "cell_type": "code",
   "execution_count": null,
   "metadata": {},
   "outputs": [],
   "source": [
    "import os\n",
    "\n",
    "def create_project_structure():\n",
    "    \"\"\"프로젝트 디렉토리 구조 생성\"\"\"\n",
    "    directories = [\n",
    "        'src',\n",
    "        'config',\n",
    "        'data/uploads',\n",
    "        'data/samples',\n",
    "        'tests'\n",
    "    ]\n",
    "    \n",
    "    files = [\n",
    "        'src/__init__.py',\n",
    "        'src/bedrock_client.py',\n",
    "        'src/knowledge_base.py',\n",
    "        'src/document_processor.py',\n",
    "        'src/chat_handler.py',\n",
    "        'src/utils.py',\n",
    "        'config/__init__.py',\n",
    "        'config/settings.py',\n",
    "        'tests/__init__.py',\n",
    "        '.gitignore'\n",
    "    ]\n",
    "    \n",
    "    print(\"📁 프로젝트 구조 생성:\")\n",
    "    print(\"=\" * 30)\n",
    "    \n",
    "    # 디렉토리 생성\n",
    "    for directory in directories:\n",
    "        os.makedirs(directory, exist_ok=True)\n",
    "        print(f\"✅ 디렉토리 생성: {directory}/\")\n",
    "    \n",
    "    # 빈 파일 생성\n",
    "    for file_path in files:\n",
    "        if not os.path.exists(file_path):\n",
    "            with open(file_path, 'w') as f:\n",
    "                if file_path.endswith('.py'):\n",
    "                    f.write('# TODO: 구현 예정\\n')\n",
    "                elif file_path == '.gitignore':\n",
    "                    f.write('''# Python\n",
    "__pycache__/\n",
    "*.py[cod]\n",
    "*.so\n",
    ".Python\n",
    "env/\n",
    "venv/\n",
    "my-rag-venv/\n",
    "\n",
    "# Environment variables\n",
    ".env\n",
    "\n",
    "# Jupyter Notebook\n",
    ".ipynb_checkpoints\n",
    "\n",
    "# Data\n",
    "data/uploads/*\n",
    "!data/uploads/.gitkeep\n",
    "\n",
    "# Logs\n",
    "*.log\n",
    "\n",
    "# IDE\n",
    ".vscode/\n",
    ".idea/\n",
    "''')\n",
    "            print(f\"✅ 파일 생성: {file_path}\")\n",
    "        else:\n",
    "            print(f\"⚠️  파일 존재: {file_path}\")\n",
    "    \n",
    "    # .gitkeep 파일 생성\n",
    "    gitkeep_files = ['data/uploads/.gitkeep', 'data/samples/.gitkeep']\n",
    "    for gitkeep in gitkeep_files:\n",
    "        with open(gitkeep, 'w') as f:\n",
    "            f.write('')\n",
    "        print(f\"✅ 파일 생성: {gitkeep}\")\n",
    "\n",
    "# 프로젝트 구조 생성 실행\n",
    "create_project_structure()"
   ]
  },
  {
   "cell_type": "markdown",
   "metadata": {},
   "source": [
    "## 9. 설정 완료 확인"
   ]
  },
  {
   "cell_type": "code",
   "execution_count": null,
   "metadata": {},
   "outputs": [],
   "source": [
    "def setup_completion_check():\n",
    "    \"\"\"설정 완료 상태 확인\"\"\"\n",
    "    print(\"🎉 프로젝트 설정 완료 확인\")\n",
    "    print(\"=\" * 40)\n",
    "    \n",
    "    checks = [\n",
    "        (\"가상환경 활성화\", \"커널이 'My RAG Chatbot'으로 설정되어 있는지 확인\"),\n",
    "        (\"패키지 설치\", \"위의 패키지 확인에서 모든 패키지가 설치되었는지 확인\"),\n",
    "        (\"AWS 자격 증명\", \"AWS 자격 증명이 정상적으로 설정되었는지 확인\"),\n",
    "        (\"Bedrock 접근\", \"Bedrock 서비스에 접근 가능한지 확인\"),\n",
    "        (\"환경 변수\", \".env 파일을 생성하고 실제 값으로 수정했는지 확인\"),\n",
    "        (\"프로젝트 구조\", \"필요한 디렉토리와 파일들이 생성되었는지 확인\")\n",
    "    ]\n",
    "    \n",
    "    for i, (item, description) in enumerate(checks, 1):\n",
    "        print(f\"{i}. {item}: {description}\")\n",
    "    \n",
    "    print(\"\\n✨ 다음 단계:\")\n",
    "    print(\"1. AWS Bedrock Knowledge Base 생성\")\n",
    "    print(\"2. S3 버킷 설정\")\n",
    "    print(\"3. 기본 코드 구현 시작\")\n",
    "    print(\"4. Streamlit 앱 개발\")\n",
    "\n",
    "# 설정 완료 확인 실행\n",
    "setup_completion_check()"
   ]
  },
  {
   "cell_type": "markdown",
   "metadata": {},
   "source": [
    "## 📝 참고사항\n",
    "\n",
    "### 주피터 노트북 커널 변경 방법\n",
    "1. 노트북 상단의 \"Kernel\" 메뉴 클릭\n",
    "2. \"Change kernel\" 선택\n",
    "3. \"My RAG Chatbot\" 커널 선택\n",
    "\n",
    "### 문제 해결\n",
    "- **패키지 설치 오류**: `pip install --upgrade pip` 후 재시도\n",
    "- **AWS 자격 증명 오류**: `aws configure` 명령어로 재설정\n",
    "- **Bedrock 접근 오류**: IAM 정책에서 Bedrock 권한 확인\n",
    "\n",
    "### 유용한 명령어\n",
    "```bash\n",
    "# 가상환경 비활성화\n",
    "deactivate\n",
    "\n",
    "# 설치된 패키지 목록 저장\n",
    "pip freeze > requirements_freeze.txt\n",
    "\n",
    "# 주피터 커널 목록 확인\n",
    "jupyter kernelspec list\n",
    "\n",
    "# 커널 삭제 (필요시)\n",
    "jupyter kernelspec uninstall my-rag-venv\n",
    "```"
   ]
  }
 ],
 "metadata": {
  "kernelspec": {
   "display_name": "Python 3",
   "language": "python",
   "name": "python3"
  },
  "language_info": {
   "codemirror_mode": {
    "name": "ipython",
    "version": 3
   },
   "file_extension": ".py",
   "mimetype": "text/x-python",
   "name": "python",
   "nbconvert_exporter": "python",
   "pygments_lexer": "ipython3",
   "version": "3.9.0"
  }
 },
 "nbformat": 4,
 "nbformat_minor": 4
}
